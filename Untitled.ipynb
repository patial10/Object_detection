{
 "cells": [
  {
   "cell_type": "code",
   "execution_count": 96,
   "metadata": {},
   "outputs": [],
   "source": [
    "# !pip install opencv-python --upgrade\n",
    "import cv2\n",
    "import numpy as np\n",
    "import time\n",
    "import sys\n",
    "import os"
   ]
  },
  {
   "cell_type": "code",
   "execution_count": 97,
   "metadata": {},
   "outputs": [],
   "source": [
    "confidence=0.5\n",
    "score_threshold=0.5\n",
    "iou_threshold=0.5"
   ]
  },
  {
   "cell_type": "code",
   "execution_count": 98,
   "metadata": {},
   "outputs": [],
   "source": [
    "#the neural network configration\n",
    "config_path=\"darknet/cfg/yolov4.cfg\"\n",
    "#yolo net weights file \n",
    "weight_path=\"darknet/weights/yolov4.weights\"\n",
    "#loading all class labels (objects)\n",
    "labels=open(\"darknet/data/coco.names\").read().strip().split(\"\\n\")\n",
    "colors = np.random.uniform(0, 255, size=(len(labels), 3))\n",
    "# print(labels)"
   ]
  },
  {
   "cell_type": "code",
   "execution_count": 99,
   "metadata": {},
   "outputs": [],
   "source": [
    "#load the yolo network\n",
    "net = cv2.dnn.readNetFromDarknet(config_path,weight_path)"
   ]
  },
  {
   "cell_type": "code",
   "execution_count": 100,
   "metadata": {},
   "outputs": [],
   "source": [
    "#Preparing image now\n",
    "path_name=\"darknet/data/1.jpg\"\n",
    "image=cv2.imread(path_name)\n",
    "file_name=os.path.basename(path_name)\n",
    "filename,ext=file_name.split(\".\")"
   ]
  },
  {
   "cell_type": "code",
   "execution_count": 101,
   "metadata": {},
   "outputs": [
    {
     "name": "stdout",
     "output_type": "stream",
     "text": [
      "image.shape (183, 275, 3)\n",
      "blob.shape (1, 3, 416, 416)\n"
     ]
    }
   ],
   "source": [
    "#Next, we need to normalize,scale,reshape this image to be suitable as an input to the neural network:\n",
    "h,w=image.shape[:2]\n",
    "#create 4D blob\n",
    "blob=cv2.dnn.blobFromImage(image,1/255.0,(416,416),swapRB=True,crop=False)#Thiswillnormalize pixelvaluesrnge from 0 to 1.let see\n",
    "print(\"image.shape\",image.shape)\n",
    "print(\"blob.shape\",blob.shape)"
   ]
  },
  {
   "cell_type": "code",
   "execution_count": 102,
   "metadata": {},
   "outputs": [],
   "source": [
    "# now making some prediction let see:\n",
    "#feed this image to neural network to get output:"
   ]
  },
  {
   "cell_type": "code",
   "execution_count": 103,
   "metadata": {},
   "outputs": [],
   "source": [
    "#set the blob as input of the network\n",
    "net.setInput(blob)\n",
    "#get all layers names\n",
    "ln=net.getLayerNames()\n",
    "ln=[ln[i[0]-1] for i in net.getUnconnectedOutLayers()]\n",
    "#perform the forward(inference) and  get nn output\n",
    "layer_output=net.forward(ln)"
   ]
  },
  {
   "cell_type": "code",
   "execution_count": 104,
   "metadata": {},
   "outputs": [],
   "source": [
    "#we need to iterate over the nn outputs and discardany objectthat has the confidence less than confidence parameter \n",
    "#we specified earlier"
   ]
  },
  {
   "cell_type": "code",
   "execution_count": 105,
   "metadata": {},
   "outputs": [],
   "source": [
    "font_scale=1\n",
    "thickness=1\n",
    "boxes,confidences,class_i=[],[],[]"
   ]
  },
  {
   "cell_type": "code",
   "execution_count": 106,
   "metadata": {},
   "outputs": [],
   "source": [
    "# !git clone https://github.com/AlexeyAB/darknet"
   ]
  },
  {
   "cell_type": "code",
   "execution_count": 107,
   "metadata": {
    "scrolled": true
   },
   "outputs": [],
   "source": [
    "#loop over each of the layer outputs\n",
    "for output in layer_output:\n",
    "    #loop over the each object detections\n",
    "#     box_coord=((text_offset_x,text_offset_y),(text_offset_x+text_width+2,text_offset_y-text_height))\n",
    "    for detect in output:\n",
    "        scores = detect[5:]\n",
    "#         print(scores)\n",
    "        class_idd = np.argmax(scores)\n",
    "        confs = scores[class_idd]\n",
    "        if confs > confidence:\n",
    "            center_x = int(detect[0] * w)\n",
    "            center_y = int(detect[1] * h)\n",
    "            wi = int(detect[2] * w)\n",
    "            hi = int(detect[3] * h)\n",
    "            x = int(center_x - wi /2)\n",
    "            y = int(center_y - hi / 2)\n",
    "            boxes.append([x, y, wi, hi])\n",
    "            confidences.append(float(confs))\n",
    "#             print(class_idd)\n",
    "            class_i.append(class_idd)\n",
    "#     print(len(class_i))"
   ]
  },
  {
   "cell_type": "code",
   "execution_count": 108,
   "metadata": {},
   "outputs": [],
   "source": [
    "#without NMS. it will create multiple boxes over a single object so we need nms to fix it...\n",
    "# for i in range(len(boxes)):\n",
    "# #     if i in indexes:\n",
    "#     x, y, w, h = boxes[i]\n",
    "#     label = str(labels[class_i[i]])\n",
    "#     color = colors[class_i[i]]\n",
    "#     cv2.rectangle(image, (x, y), (x + w, y + h), 2)\n",
    "#     cv2.putText(image, label, (x, y -5),cv2.FONT_HERSHEY_SIMPLEX,1/2, color, 2)\n",
    "\n",
    "# cv2.imshow(\"Image\",image)\n",
    "# cv2.waitKey(0)\n",
    "\n",
    "\n",
    "\n",
    "cap = cv2.VideoCapture(0)\n"
   ]
  },
  {
   "cell_type": "code",
   "execution_count": 109,
   "metadata": {},
   "outputs": [],
   "source": [
    "# #with NMS boxes\n",
    "# indexes = cv2.dnn.NMSBoxes(boxes, confidences, score_threshold, 0.5)\n",
    "# for i in range(len(boxes)):\n",
    "#     if i in indexes:\n",
    "# #         print(class_i[i])\n",
    "#         x, y, w, h = boxes[i]\n",
    "#         label = str(labels[class_i[i]])\n",
    "#         color = colors[class_i[i]]\n",
    "#         cv2.rectangle(image, (x, y), (x + w, y + h), color, 2)\n",
    "#         cv2.putText(image, label, (x, y -5),cv2.FONT_HERSHEY_SIMPLEX,1/2, color, 2)\n",
    "\n",
    "# cv2.imshow(\"Image\",image)\n",
    "# cv2.waitKey(0)"
   ]
  },
  {
   "cell_type": "code",
   "execution_count": 110,
   "metadata": {},
   "outputs": [],
   "source": [
    "# while(cap.isOpened()):\n",
    "#     ret, frame = cap.read()\n",
    "\n",
    "#     gray = cv2.cvtColor(frame, cv2.COLOR_BGR2GRAY)\n",
    "\n",
    "#     cv2.imshow('frame',gray)\n",
    "#     if cv2.waitKey(1) & 0xFF == ord('q'):\n",
    "#         break\n",
    "\n",
    "# cap.release()\n",
    "# cv2.destroyAllWindows()K:\\Data\\Drive K\\Yuphorias Data\\Yuphoria_WhatsApp_db\\Media\\WhatsApp Video/123.mp4"
   ]
  },
  {
   "cell_type": "code",
   "execution_count": 112,
   "metadata": {},
   "outputs": [],
   "source": [
    "cap = cv2.VideoCapture(0)\n",
    "indexes = cv2.dnn.NMSBoxes(boxes, confidences, score_threshold, 0.5)\n",
    "while(cap.isOpened()):\n",
    "    for i in range(len(boxes)):\n",
    "        if i in indexes:\n",
    "            x, y, w, h = boxes[i]\n",
    "            label = str(labels[class_i[i]])\n",
    "            color = colors[class_i[i]]\n",
    "            ret, frame = cap.read()\n",
    "            gray = cv2.cvtColor(frame, cv2.COLOR_BGR2GRAY)\n",
    "            cv2.rectangle(gray, (x, y), (x + w, y + h), color, 2)\n",
    "            cv2.putText(gray, label, (x, y -5),cv2.FONT_HERSHEY_SIMPLEX,1/2, color, 2)\n",
    "    \n",
    "    cv2.imshow('frame',gray)\n",
    "    if cv2.waitKey(1) & 0xFF == ord('q'):\n",
    "        break\n",
    "\n",
    "cap.release()\n",
    "cv2.destroyAllWindows()"
   ]
  },
  {
   "cell_type": "code",
   "execution_count": null,
   "metadata": {},
   "outputs": [],
   "source": []
  },
  {
   "cell_type": "code",
   "execution_count": null,
   "metadata": {},
   "outputs": [],
   "source": []
  },
  {
   "cell_type": "code",
   "execution_count": null,
   "metadata": {},
   "outputs": [],
   "source": []
  },
  {
   "cell_type": "code",
   "execution_count": null,
   "metadata": {},
   "outputs": [],
   "source": []
  },
  {
   "cell_type": "code",
   "execution_count": null,
   "metadata": {},
   "outputs": [],
   "source": []
  },
  {
   "cell_type": "code",
   "execution_count": null,
   "metadata": {},
   "outputs": [],
   "source": []
  }
 ],
 "metadata": {
  "kernelspec": {
   "display_name": "Python 3",
   "language": "python",
   "name": "python3"
  },
  "language_info": {
   "codemirror_mode": {
    "name": "ipython",
    "version": 3
   },
   "file_extension": ".py",
   "mimetype": "text/x-python",
   "name": "python",
   "nbconvert_exporter": "python",
   "pygments_lexer": "ipython3",
   "version": "3.7.7"
  }
 },
 "nbformat": 4,
 "nbformat_minor": 4
}
